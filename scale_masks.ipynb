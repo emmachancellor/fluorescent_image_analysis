{
 "cells": [
  {
   "cell_type": "code",
   "execution_count": 1,
   "metadata": {},
   "outputs": [],
   "source": [
    "import numpy as np\n",
    "import pandas as pd"
   ]
  },
  {
   "cell_type": "code",
   "execution_count": 2,
   "metadata": {},
   "outputs": [],
   "source": [
    "roi = pd.read_csv('/Volumes/ECD/microscopy_v2/images/high_T_1_DIC_png_512/SIY_Sample3_w1DIC_s1_t1_cp_outlines.txt', delimiter='\\t', header=None)"
   ]
  },
  {
   "cell_type": "code",
   "execution_count": 29,
   "metadata": {},
   "outputs": [],
   "source": [
    "def multiply_list(l:str):\n",
    "    '''\n",
    "    Helper function that takes a string of numbers separated by a \n",
    "    comma and converts this into a numpy array that is then\n",
    "    multiplied by 2.635. \n",
    "    \n",
    "    Args:\n",
    "        l (str): string of that contains numbers separated by commas.\n",
    "        Example: \"31,32,44,71\"\n",
    "    \n",
    "    Returns:\n",
    "        string_again (str): string of the input numbers that have\n",
    "        been multiplied by 2.635.\n",
    "    '''\n",
    "    arr=np.array(list(map(int,l.split(','))))\n",
    "    arr_multiplied = arr.astype(float) * 2.635\n",
    "    arr_multiplied = [int(round(x)) for x in arr_multiplied]\n",
    "    string_again = ','.join(map(str, arr_multiplied))\n",
    "    return string_again"
   ]
  },
  {
   "cell_type": "code",
   "execution_count": 30,
   "metadata": {},
   "outputs": [],
   "source": [
    "scaled_roi = roi.iloc[:, 0].map(multiply_list)\n",
    "scaled_roi.to_csv('/Volumes/ECD/microscopy_v2/images/high_T_1_DIC_png_512/scaled_SIY_Sample3_w1DIC_s1_t1_cp_outlines.txt', sep='\\t', index=False, header=False)"
   ]
  },
  {
   "cell_type": "code",
   "execution_count": 8,
   "metadata": {},
   "outputs": [
    {
     "name": "stdout",
     "output_type": "stream",
     "text": [
      "375,169,373,172,370,172,367,174,365,177,362,177,359,180,357,182,357,185,354,188,354,190,354,193,354,196,354,198,354,201,354,204,357,206,357,209,359,212,362,214,365,217,367,217,370,220,373,220,375,223,378,223,381,223,383,223,386,223,389,223,391,223,394,223,397,220,399,220,402,217,405,214,405,212,408,209,408,206,408,204,408,201,408,198,405,196,405,193,405,190,405,188,405,185,402,182,399,180,397,180,394,177,391,177,389,174,386,174,383,172,381,172,378,172\n"
     ]
    }
   ],
   "source": [
    "test_list=\"140,63,139,64,138,64,137,65,136,66,135,66,134,67,133,68,133,69,132,70,132,71,132,72,132,73,132,74,132,75,132,76,133,77,133,78,134,79,135,80,136,81,137,81,138,82,139,82,140,83,141,83,142,83,143,83,144,83,145,83,146,83,147,83,148,82,149,82,150,81,151,80,151,79,152,78,152,77,152,76,152,75,152,74,151,73,151,72,151,71,151,70,151,69,150,68,149,67,148,67,147,66,146,66,145,65,144,65,143,64,142,64,141,64\"\n",
    "\n",
    "print(multiply_list(test_list))"
   ]
  }
 ],
 "metadata": {
  "kernelspec": {
   "display_name": "cellpose",
   "language": "python",
   "name": "python3"
  },
  "language_info": {
   "codemirror_mode": {
    "name": "ipython",
    "version": 3
   },
   "file_extension": ".py",
   "mimetype": "text/x-python",
   "name": "python",
   "nbconvert_exporter": "python",
   "pygments_lexer": "ipython3",
   "version": "3.8.16"
  },
  "orig_nbformat": 4
 },
 "nbformat": 4,
 "nbformat_minor": 2
}
