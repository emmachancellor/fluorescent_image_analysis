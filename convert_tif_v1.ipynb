{
 "cells": [
  {
   "cell_type": "code",
   "execution_count": 2,
   "metadata": {},
   "outputs": [],
   "source": [
    "import pandas as pd\n",
    "import numpy as np\n",
    "import PIL\n",
    "from PIL import Image"
   ]
  },
  {
   "attachments": {},
   "cell_type": "markdown",
   "metadata": {},
   "source": [
    "This code converts .TIF files into .jpg files. You can also convert to other file types by changing the keyword argments in the .save() method. "
   ]
  },
  {
   "cell_type": "code",
   "execution_count": 3,
   "metadata": {},
   "outputs": [],
   "source": [
    "name = '/Users/emmadyer/Downloads/killing1_Sample8_w1DIC_s2_t2.TIF'\n",
    "\n",
    "im = np.array(Image.open(name))\n",
    "im = Image.fromarray(im / np.amax(im) * 255)\n",
    "im = im.convert(\"L\")\n",
    "name = str(name).rstrip(\".TIF\")\n",
    "#im.save(name + '.jpg', 'JPEG')\n",
    "im.save(name + '.png', 'PNG')"
   ]
  },
  {
   "attachments": {},
   "cell_type": "markdown",
   "metadata": {},
   "source": [
    "The following code allows image cropping. Note that for segmentaiton in CellPose, cropping any vignetting is not necessary for segmentation. "
   ]
  },
  {
   "cell_type": "code",
   "execution_count": 12,
   "metadata": {},
   "outputs": [],
   "source": [
    "# Crop images\n",
    "\n",
    "f = '/Users/emmadyer/Downloads/killing1_Sample8_w1DIC_s2_t2.png'\n",
    "\n",
    "img = Image.open(f)\n",
    "w, h = img.size #check image size\n",
    "#print(w, h)\n",
    "#crop_dim = (289.5, 129.5, 1054.5, 894.5) #note:  the upper left corner is (0,0)\n",
    "crop_dim = (289.5, 129.5, 1200, 1000)\n",
    "img = img.crop(crop_dim)\n",
    "#img.show() #check that image is cropped properly before looping over all images\n",
    "#img = img.resize((256,256))\n",
    "name = str(f)\n",
    "#end_name = re.split(r\"/\", name)[-1]\n",
    "path = f[:-4] + '_crop.png'\n",
    "img.save(path)"
   ]
  }
 ],
 "metadata": {
  "kernelspec": {
   "display_name": "py39",
   "language": "python",
   "name": "python3"
  },
  "language_info": {
   "codemirror_mode": {
    "name": "ipython",
    "version": 3
   },
   "file_extension": ".py",
   "mimetype": "text/x-python",
   "name": "python",
   "nbconvert_exporter": "python",
   "pygments_lexer": "ipython3",
   "version": "3.9.13"
  },
  "orig_nbformat": 4
 },
 "nbformat": 4,
 "nbformat_minor": 2
}
